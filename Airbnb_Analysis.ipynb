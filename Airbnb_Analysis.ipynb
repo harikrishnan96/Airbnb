{
 "cells": [
  {
   "cell_type": "code",
   "execution_count": null,
   "id": "987d50c3-1874-47d6-b5f3-d1d31c73b3b5",
   "metadata": {},
   "outputs": [],
   "source": [
    "import pandas as pd\n",
    "import numpy as np\n",
    "import pymongo\n",
    "import seaborn as sns\n",
    "import plotly.express as px\n",
    "import matplotlib.pyplot as plt\n",
    "from wordcloud import STOPWORDS, WordCloud"
   ]
  },
  {
   "cell_type": "code",
   "execution_count": null,
   "id": "00c27484-1349-4b67-bcf0-f4ed7c5b0f7f",
   "metadata": {},
   "outputs": [],
   "source": [
    "client = pymongo.MongoClient(\"Your unique client Id\")\n",
    "db = client.sample_airbnb\n",
    "col = db.listingsAndReviews"
   ]
  },
  {
   "cell_type": "code",
   "execution_count": null,
   "id": "3713495b-0b5e-436f-ae95-6982f1b6b643",
   "metadata": {},
   "outputs": [],
   "source": [
    "rel_data = []\n",
    "for i in col.find():\n",
    "    data = dict(Id = i['_id'],\n",
    "                Listing_url = i['listing_url'],\n",
    "                Name = i.get('name'),\n",
    "                Description = i['description'],\n",
    "                House_rules = i.get('house_rules'),\n",
    "                Property_type = i['property_type'],\n",
    "                Room_type = i['room_type'],\n",
    "                Bed_type = i['bed_type'],\n",
    "                Min_nights = int(i['minimum_nights']),\n",
    "                Max_nights = int(i['maximum_nights']),\n",
    "                Cancellation_policy = i['cancellation_policy'],\n",
    "                Accomodates = i['accommodates'],\n",
    "                Total_bedrooms = i.get('bedrooms'),\n",
    "                Total_beds = i.get('beds'),\n",
    "                Availability_365 = i['availability']['availability_365'],\n",
    "                Price = i['price'],\n",
    "                Security_deposit = i.get('security_deposit'),\n",
    "                Cleaning_fee = i.get('cleaning_fee'),\n",
    "                Extra_people = i['extra_people'],\n",
    "                Guests_included= i['guests_included'],\n",
    "                No_of_reviews = i['number_of_reviews'],\n",
    "                Review_scores = i['review_scores'].get('review_scores_rating'),\n",
    "                Amenities = ', '.join(i['amenities']),\n",
    "                Host_id = i['host']['host_id'],\n",
    "                Host_name = i['host']['host_name'],\n",
    "                Street = i['address']['street'],\n",
    "                Country = i['address']['country'],\n",
    "                Country_code = i['address']['country_code'],\n",
    "                Location_type = i['address']['location']['type'],\n",
    "                Longitude = i['address']['location']['coordinates'][0],\n",
    "                Latitude = i['address']['location']['coordinates'][1],\n",
    "                Is_location_exact = i['address']['location']['is_location_exact']\n",
    "    )\n",
    "    rel_data.append(data)"
   ]
  },
  {
   "cell_type": "code",
   "execution_count": null,
   "id": "3beb8b47-5b63-4e91-a794-ef3bdbd49b33",
   "metadata": {},
   "outputs": [],
   "source": [
    "df = pd.DataFrame(rel_data)"
   ]
  },
  {
   "cell_type": "code",
   "execution_count": null,
   "id": "b221d0be-451c-483e-8fa3-bfef395beb0e",
   "metadata": {},
   "outputs": [],
   "source": [
    "# checking Data types\n",
    "df.info()"
   ]
  },
  {
   "cell_type": "code",
   "execution_count": null,
   "id": "9c046a2b-2b86-4241-993f-0aa0113c9a0f",
   "metadata": {},
   "outputs": [],
   "source": [
    "# The below features are in Decimal128 type hence changing it to relevant data types\n",
    "df.Price = df.Price.astype(str).astype(float)\n",
    "df.Security_deposit = df.Security_deposit[~df.Security_deposit.isna()].astype(str).astype(float)\n",
    "df.Cleaning_fee = df.Cleaning_fee[~df.Cleaning_fee.isna()].astype(str).astype(float)\n",
    "df.Extra_people = df.Extra_people.astype(str).astype(float)\n",
    "df.Guests_included = df.Guests_included.astype(str).astype(float)\n",
    "df.Review_scores = df.Review_scores.astype('Int64')"
   ]
  },
  {
   "cell_type": "code",
   "execution_count": null,
   "id": "defecc94-5677-4af1-9025-f780f56b7fc1",
   "metadata": {},
   "outputs": [],
   "source": [
    "df.isna().sum()"
   ]
  },
  {
   "cell_type": "code",
   "execution_count": null,
   "id": "fb14e470-b8ca-4496-9cf5-4f0e2673d296",
   "metadata": {},
   "outputs": [],
   "source": [
    "# Filling Total bedrooms with mode\n",
    "df.Total_bedrooms.fillna(df.Total_bedrooms.mode()[0],inplace=True)\n",
    "# Filling Total beds with median because data has outliers\n",
    "df.Total_beds.fillna(df.Total_beds.median(),inplace=True)\n",
    "df.Security_deposit.fillna(df.Security_deposit.median(),inplace=True)\n",
    "df.Cleaning_fee.fillna(df.Cleaning_fee.median(),inplace=True)\n",
    "df.Review_scores.fillna(df.Review_scores.median(),inplace=True)"
   ]
  },
  {
   "cell_type": "code",
   "execution_count": null,
   "id": "064cacd2-3246-46a1-b87b-d542a1aeafb5",
   "metadata": {},
   "outputs": [],
   "source": [
    "# Filling Empty values in Description and House rules columns\n",
    "df.Description.replace(to_replace='',value='No Description Provided',inplace=True)\n",
    "df.House_rules.replace(to_replace='',value='No House rules Provided',inplace=True)\n",
    "df.Amenities.replace(to_replace='',value='Not Available',inplace=True)"
   ]
  },
  {
   "cell_type": "code",
   "execution_count": null,
   "id": "456553a7-5998-42b4-b929-67c5578bd828",
   "metadata": {},
   "outputs": [],
   "source": [
    "df.isna().sum()"
   ]
  },
  {
   "cell_type": "code",
   "execution_count": null,
   "id": "cdd4019a-aa15-44e9-a357-ff7504d63000",
   "metadata": {},
   "outputs": [],
   "source": [
    "# Checking Duplicate records\n",
    "df[df.duplicated()]"
   ]
  },
  {
   "cell_type": "code",
   "execution_count": null,
   "id": "ad7b5816-0251-4254-ae3d-fc55eb19e00d",
   "metadata": {},
   "outputs": [],
   "source": [
    "# Name Column has empty values and some duplicates hence dropping them\n",
    "df.drop(labels=list(df[df.Name.duplicated(keep=False)].index),inplace=True)"
   ]
  },
  {
   "cell_type": "code",
   "execution_count": null,
   "id": "51868eed-211d-4b00-b4d6-002902b50290",
   "metadata": {},
   "outputs": [],
   "source": [
    "df.reset_index(drop=True,inplace=True)"
   ]
  },
  {
   "cell_type": "code",
   "execution_count": null,
   "id": "a23d41de-c884-4cc6-80b3-d7702b05cd7a",
   "metadata": {},
   "outputs": [],
   "source": [
    "# Converting dataframe to csv file and saving it\n",
    "df.to_csv('Airbnb_data.csv',index=False)"
   ]
  },
  {
   "cell_type": "code",
   "execution_count": null,
   "id": "6d07311a-c7fc-4e82-9d74-c518075e0146",
   "metadata": {},
   "outputs": [],
   "source": [
    "plt.figure(figsize=(10,8))\n",
    "ax = sns.countplot(data=df,y=df.Property_type.values,order=df.Property_type.value_counts().index[:10])\n",
    "ax.set_title(\"Top 10 Property Types available\")"
   ]
  },
  {
   "cell_type": "code",
   "execution_count": null,
   "id": "5a0f2b02-ee24-4854-954e-d3c0b057667d",
   "metadata": {},
   "outputs": [],
   "source": [
    "plt.figure(figsize=(10,8))\n",
    "ax = sns.countplot(data=df,x=df.Room_type)\n",
    "ax.set_title(\"Total Listings in each Room Type\")"
   ]
  },
  {
   "cell_type": "code",
   "execution_count": null,
   "id": "213c5e5c-92ab-4540-b55b-1c5857dda8e0",
   "metadata": {},
   "outputs": [],
   "source": [
    "# top 10 Hosts with Highest number of listings\n",
    "df.Host_name.value_counts()"
   ]
  },
  {
   "cell_type": "code",
   "execution_count": null,
   "id": "49fb027f-e3f5-489a-86cc-f1b13b762f0b",
   "metadata": {},
   "outputs": [],
   "source": [
    "plt.figure(figsize=(10,8))\n",
    "ax = sns.countplot(data=df,y=df.Host_name,order=df.Host_name.value_counts().index[:10])\n",
    "ax.set_title(\"Top 10 Hosts with Highest number of Listings\")"
   ]
  },
  {
   "cell_type": "code",
   "execution_count": null,
   "id": "f86ae90d-a5f9-4231-8659-09cc930555ac",
   "metadata": {},
   "outputs": [],
   "source": [
    "fig = px.choropleth(data_frame=df,\n",
    "                    locations='Country_code',\n",
    "                    color='Country',\n",
    "                    locationmode='country names')\n",
    "fig.show()"
   ]
  },
  {
   "cell_type": "code",
   "execution_count": null,
   "id": "88215ac0-2de8-48b3-8451-e36c1c5118f8",
   "metadata": {},
   "outputs": [],
   "source": [
    "country_df = df.groupby('Country',as_index=False)['Price'].mean()"
   ]
  },
  {
   "cell_type": "code",
   "execution_count": null,
   "id": "add20444-f8f5-4c43-b050-5904f30bc2a2",
   "metadata": {},
   "outputs": [],
   "source": [
    "fig = px.scatter(data_frame=country_df,\n",
    "           x='Country',y='Price',\n",
    "           color='Country',\n",
    "           size='Price',\n",
    "           opacity=1,\n",
    "           size_max=35,\n",
    "           title='Avg Listing Price in each Countries')\n",
    "fig.show()"
   ]
  },
  {
   "cell_type": "code",
   "execution_count": null,
   "id": "d4f10a47-deb0-433d-9e05-d7af6271aa2e",
   "metadata": {},
   "outputs": [],
   "source": [
    "rev_df = df.groupby('Room_type',as_index=False)['Review_scores'].mean().sort_values(by='Review_scores')\n",
    "fig = px.bar(data_frame=rev_df,x='Room_type',y='Review_scores',color='Review_scores')\n",
    "fig.show()"
   ]
  },
  {
   "cell_type": "code",
   "execution_count": null,
   "id": "7b4e1e89-cd33-4039-afbc-f1ab60535da6",
   "metadata": {},
   "outputs": [],
   "source": [
    "pr_df = df.groupby('Room_type',as_index=False)['Price'].mean().sort_values(by='Price')\n",
    "fig = px.bar(data_frame=pr_df,x='Room_type',y='Price',color='Price')\n",
    "fig.show()"
   ]
  }
 ],
 "metadata": {
  "kernelspec": {
   "display_name": "Python 3 (ipykernel)",
   "language": "python",
   "name": "python3"
  },
  "language_info": {
   "codemirror_mode": {
    "name": "ipython",
    "version": 3
   },
   "file_extension": ".py",
   "mimetype": "text/x-python",
   "name": "python",
   "nbconvert_exporter": "python",
   "pygments_lexer": "ipython3",
   "version": "3.12.4"
  }
 },
 "nbformat": 4,
 "nbformat_minor": 5
}
